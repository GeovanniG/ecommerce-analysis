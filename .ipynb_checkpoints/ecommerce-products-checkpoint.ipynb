{
 "cells": [
  {
   "cell_type": "code",
   "execution_count": null,
   "metadata": {},
   "outputs": [],
   "source": [
    "import numpy as np\n",
    "import pandas as pd\n",
    "import matplotlib.pyplot as plt\n",
    "import seaborn as sns\n",
    "\n",
    "%matplotlib inline"
   ]
  },
  {
   "cell_type": "code",
   "execution_count": null,
   "metadata": {},
   "outputs": [],
   "source": [
    "products = pd.read_csv('summer-products-with-rating-and-performance_2020-08.csv')"
   ]
  },
  {
   "cell_type": "code",
   "execution_count": null,
   "metadata": {},
   "outputs": [],
   "source": [
    "print(products.shape)\n",
    "products.head()"
   ]
  },
  {
   "cell_type": "code",
   "execution_count": null,
   "metadata": {},
   "outputs": [],
   "source": [
    "products.info()"
   ]
  },
  {
   "cell_type": "code",
   "execution_count": null,
   "metadata": {},
   "outputs": [],
   "source": [
    "# Display number of null values for columns that contain nulls\n",
    "cols_contain_null = products.isnull().sum()\n",
    "cols_contain_null_count = cols_contain_null[cols_contain_null > 0]\n",
    "cols_contain_null_count"
   ]
  },
  {
   "cell_type": "code",
   "execution_count": null,
   "metadata": {},
   "outputs": [],
   "source": [
    "# Display percentage of null values for columns that contain nulls\n",
    "cols_contain_null_count / products.shape[0] * 100"
   ]
  },
  {
   "cell_type": "code",
   "execution_count": null,
   "metadata": {},
   "outputs": [],
   "source": [
    "products['has_urgency_banner']"
   ]
  },
  {
   "cell_type": "code",
   "execution_count": null,
   "metadata": {},
   "outputs": [],
   "source": [
    "products['urgency_text']"
   ]
  },
  {
   "cell_type": "code",
   "execution_count": null,
   "metadata": {},
   "outputs": [],
   "source": [
    "urgency_banner = pd.Series(products['has_urgency_banner'][products['has_urgency_banner'].notnull()].index)\n",
    "urgency_banner"
   ]
  },
  {
   "cell_type": "code",
   "execution_count": null,
   "metadata": {},
   "outputs": [],
   "source": [
    "urgency_text = pd.Series(products['urgency_text'][products['urgency_text'].notnull()].index)\n",
    "urgency_text"
   ]
  },
  {
   "cell_type": "code",
   "execution_count": null,
   "metadata": {},
   "outputs": [],
   "source": [
    "urgency_banner.ne(urgency_text).sum() > 0"
   ]
  },
  {
   "cell_type": "markdown",
   "metadata": {},
   "source": [
    "Notice that urgency_text and has_urgency_banner repeat the same data. So, we'll delete urgency_text, as the text is harder to work with. Also, merchant_profile_picture has about 85% null values!. It provides no value to our analysis so we will also delete it."
   ]
  },
  {
   "cell_type": "code",
   "execution_count": null,
   "metadata": {},
   "outputs": [],
   "source": [
    "products = products.drop(columns=['urgency_text', 'merchant_profile_picture'])\n",
    "products['has_urgency_banner'] = products['has_urgency_banner'].fillna(0)"
   ]
  },
  {
   "cell_type": "code",
   "execution_count": null,
   "metadata": {},
   "outputs": [],
   "source": [
    "products.isnull().sum()[products.isnull().sum() > 0]"
   ]
  },
  {
   "cell_type": "code",
   "execution_count": null,
   "metadata": {
    "scrolled": true
   },
   "outputs": [],
   "source": [
    "for i in ['rating_five_count', 'rating_four_count', 'rating_three_count', 'rating_two_count', 'rating_one_count']:\n",
    "    print(products[i][products[i].isnull()].index)      "
   ]
  },
  {
   "cell_type": "code",
   "execution_count": null,
   "metadata": {},
   "outputs": [],
   "source": [
    "## Products that are rated with 5 stars when in fact they have no reviews\n",
    "five_stars_no_reviews = products[(products['rating'] == 5) & (products['rating_count'] == 0)]\n",
    "five_stars_no_reviews"
   ]
  },
  {
   "cell_type": "markdown",
   "metadata": {},
   "source": [
    "Notice that some products with no reviews are given five stars. This may cause complications in our analysis. Instead, we will change there ratings to 0."
   ]
  },
  {
   "cell_type": "code",
   "execution_count": null,
   "metadata": {},
   "outputs": [],
   "source": [
    "products.loc[(products['rating'] == 5) & (products['rating_count'] == 0), 'rating'] = 0"
   ]
  },
  {
   "cell_type": "code",
   "execution_count": null,
   "metadata": {},
   "outputs": [],
   "source": [
    "products.loc[(products['rating_count'] == 0), ['rating_five_count', 'rating_four_count', 'rating_three_count', 'rating_two_count', 'rating_one_count']] = 0"
   ]
  },
  {
   "cell_type": "code",
   "execution_count": null,
   "metadata": {},
   "outputs": [],
   "source": []
  },
  {
   "cell_type": "code",
   "execution_count": null,
   "metadata": {},
   "outputs": [],
   "source": [
    "products.isnull().sum()[products.isnull().sum() > 0]"
   ]
  },
  {
   "cell_type": "markdown",
   "metadata": {},
   "source": [
    "The rest are all categorical variables, we will fill the missing values with the mode of each column."
   ]
  },
  {
   "cell_type": "code",
   "execution_count": null,
   "metadata": {},
   "outputs": [],
   "source": [
    "products = products.fillna(products.mode().iloc[0])"
   ]
  },
  {
   "cell_type": "code",
   "execution_count": null,
   "metadata": {},
   "outputs": [],
   "source": [
    "products.columns"
   ]
  },
  {
   "cell_type": "code",
   "execution_count": null,
   "metadata": {},
   "outputs": [],
   "source": [
    "var_cat = products.select_dtypes(include='object').apply(lambda x: len(x.value_counts())) \n",
    "var_cat"
   ]
  },
  {
   "cell_type": "code",
   "execution_count": null,
   "metadata": {},
   "outputs": [],
   "source": [
    "products.select_dtypes(include='number').apply(lambda x: len(x.value_counts())) "
   ]
  },
  {
   "cell_type": "code",
   "execution_count": null,
   "metadata": {},
   "outputs": [],
   "source": [
    "products['countries_shipped_to']"
   ]
  },
  {
   "cell_type": "markdown",
   "metadata": {},
   "source": [
    "We drop the columns that have no variance, or are redundant, or give no useful information"
   ]
  },
  {
   "cell_type": "code",
   "execution_count": null,
   "metadata": {},
   "outputs": [],
   "source": [
    "products = products.drop(columns=var_cat[var_cat == 1].index)\n",
    "products = products.drop(columns=['title', 'title_orig', 'tags', \n",
    "                                  'merchant_name', 'merchant_title', 'merchant_info_subtitle', 'merchant_has_profile_picture',\n",
    "                                  'product_url', 'product_picture', 'shipping_option_name'])\n",
    "products.select_dtypes(include='object').apply(lambda x: len(x.value_counts())) "
   ]
  },
  {
   "cell_type": "code",
   "execution_count": null,
   "metadata": {},
   "outputs": [],
   "source": [
    "import re\n",
    "products['product_variation_size_id'] = products['product_variation_size_id'].str.lower()\n",
    "products['product_variation_size_id'][products['product_variation_size_id'].str.contains(r'[women ]?[size]?[-/ ]*(.*)', flags=re.IGNORECASE)].unique()\n",
    "# remove_size_keyword = products['product_variation_size_id'].str.extract(r'[women ]?size[-/ ]*(.*)', flags=re.IGNORECASE)[0]\n",
    "# products.loc[remove_size_keyword.notnull(), 'product_variation_size_id'] = remove_size_keyword\n",
    "# products['product_variation_size_id'].unique()"
   ]
  },
  {
   "cell_type": "code",
   "execution_count": null,
   "metadata": {},
   "outputs": [],
   "source": [
    "# products.loc[products['product_color'].value_counts() == 1, 'product_color']\n",
    "products['product_color'] = products['product_color'].str.lower()\n",
    "product_color_fix = products['product_color'].value_counts()[products['product_color'].value_counts() == 1]\n",
    "colors = [\n",
    "            'green', 'khaki', 'blue', 'purple', 'black', 'brown',\n",
    "            'grey', 'gray', 'red', 'white', 'yellow', 'orange', 'pink', \n",
    "            'multicolor'\n",
    "         ]\n",
    "regex = re.compile(f'({\"|\".join(colors)}+)', flags=re.IGNORECASE)\n",
    "products['product_color'][products['product_color'].str.contains(regex)]\n",
    "# products['product_color'].str.extract(regex).isnull()\n",
    "products.loc[products['product_color'].str.extract(regex)[0].isnull(), 'product_color'].value_counts()\n",
    "\n",
    "# if contains & change to multicolor ***************"
   ]
  },
  {
   "cell_type": "code",
   "execution_count": null,
   "metadata": {},
   "outputs": [],
   "source": [
    "# products['shipping_option_name'].unique()"
   ]
  },
  {
   "cell_type": "code",
   "execution_count": null,
   "metadata": {},
   "outputs": [],
   "source": [
    "# products.loc[products['shipping_option_name'].isin(['Livraison standard', 'Envio Padrão', 'Standart Gönderi',\n",
    "#        'Standardversand', 'Envío normal', 'Standardowa wysyłka','الشحن القياسي', 'Expediere Standard', 'การส่งสินค้ามาตรฐาน',\n",
    "#        'Standard Shipping', 'ការដឹកជញ្ជូនតាមស្តង់ដារ','Стандартная доставка', 'Spedizione standard']), 'shipping_option_name'] = 'standard'\n",
    "# products.loc[products['shipping_option_name'].isin(['Livraison Express', 'Ekspresowa wysyłka']), 'shipping_option_name'] = 'express'"
   ]
  },
  {
   "cell_type": "code",
   "execution_count": null,
   "metadata": {},
   "outputs": [],
   "source": [
    "products.columns"
   ]
  },
  {
   "cell_type": "code",
   "execution_count": null,
   "metadata": {},
   "outputs": [],
   "source": [
    "sns.lineplot(x='price', y='units_sold', data=products)"
   ]
  },
  {
   "cell_type": "code",
   "execution_count": null,
   "metadata": {},
   "outputs": [],
   "source": [
    "sns.lineplot(x='price', y='retail_price', data=products)"
   ]
  },
  {
   "cell_type": "code",
   "execution_count": null,
   "metadata": {},
   "outputs": [],
   "source": [
    "sns.scatterplot(x='rating', y='units_sold', hue='uses_ad_boosts', data=products)"
   ]
  },
  {
   "cell_type": "markdown",
   "metadata": {},
   "source": [
    "It appears that the best selling items have a rating between "
   ]
  },
  {
   "cell_type": "code",
   "execution_count": null,
   "metadata": {
    "scrolled": true
   },
   "outputs": [],
   "source": [
    "sns.heatmap(products.corr())"
   ]
  },
  {
   "cell_type": "code",
   "execution_count": null,
   "metadata": {},
   "outputs": [],
   "source": [
    "sns.scatterplot(x='rating_count', y='units_sold', hue='badge_fast_shipping', data=products)"
   ]
  },
  {
   "cell_type": "code",
   "execution_count": null,
   "metadata": {},
   "outputs": [],
   "source": [
    "sns.scatterplot(x='rating_count', y='units_sold', hue='has_urgency_banner', data=products)"
   ]
  },
  {
   "cell_type": "code",
   "execution_count": null,
   "metadata": {},
   "outputs": [],
   "source": [
    "sns.scatterplot(x='rating_count', y='units_sold', hue='badge_product_quality', data=products)"
   ]
  },
  {
   "cell_type": "code",
   "execution_count": null,
   "metadata": {},
   "outputs": [],
   "source": [
    "plt.figure(figsize=(15, 6))\n",
    "plt.xticks(rotation=90)\n",
    "ax = sns.barplot(x='product_color', y='units_sold', \n",
    "            data=products[products['units_sold'] > 1000], \n",
    "           errwidth=0)\n",
    "# ax.xaxis.set_major_locator(loc)"
   ]
  },
  {
   "cell_type": "code",
   "execution_count": null,
   "metadata": {},
   "outputs": [],
   "source": [
    "products.loc[products['product_color'] == 'light green', 'units_sold']"
   ]
  },
  {
   "cell_type": "code",
   "execution_count": null,
   "metadata": {},
   "outputs": [],
   "source": [
    "products.loc[products['product_color'] == 'orange', 'units_sold']"
   ]
  },
  {
   "cell_type": "code",
   "execution_count": null,
   "metadata": {},
   "outputs": [],
   "source": []
  }
 ],
 "metadata": {
  "kernelspec": {
   "display_name": "Python 3",
   "language": "python",
   "name": "python3"
  },
  "language_info": {
   "codemirror_mode": {
    "name": "ipython",
    "version": 3
   },
   "file_extension": ".py",
   "mimetype": "text/x-python",
   "name": "python",
   "nbconvert_exporter": "python",
   "pygments_lexer": "ipython3",
   "version": "3.7.4"
  }
 },
 "nbformat": 4,
 "nbformat_minor": 2
}
